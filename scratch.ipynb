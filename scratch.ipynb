{
 "cells": [
  {
   "cell_type": "code",
   "execution_count": 49,
   "metadata": {},
   "outputs": [
    {
     "data": {
      "text/plain": [
       "Index(['Loamy, Well-drained', 'Rich, Well-drained', 'Fertile, Well-drained',\n",
       "       'Sandy, Well-drained', 'Moist, Well-drained', 'Loose, Sandy',\n",
       "       'Deep, Sandy', 'Rich, Moist'],\n",
       "      dtype='object', name='soil')"
      ]
     },
     "execution_count": 49,
     "metadata": {},
     "output_type": "execute_result"
    }
   ],
   "source": [
    "import pandas as pd\n",
    "import pprint as p\n",
    "\n",
    "plants_table = pd.read_csv(\"backend/database/Plants_Table.csv\")\n",
    "plants_table['soil'].value_counts().keys()"
   ]
  },
  {
   "cell_type": "code",
   "execution_count": 25,
   "metadata": {},
   "outputs": [],
   "source": [
    "plants_table.loc[plants_table['soil'] ==  'Well-drained, Rich','soil'] = 'Rich, Well-drained'"
   ]
  },
  {
   "cell_type": "code",
   "execution_count": 26,
   "metadata": {},
   "outputs": [],
   "source": [
    "plants_table.loc[plants_table['soil'] ==  'Well-drained, Loamy','soil'] = 'Loamy, Well-drained'"
   ]
  },
  {
   "cell_type": "code",
   "execution_count": 27,
   "metadata": {},
   "outputs": [],
   "source": [
    "plants_table.loc[plants_table['soil'] ==  'Well-drained, Fertile','soil'] = 'Fertile, Well-drained'"
   ]
  },
  {
   "cell_type": "code",
   "execution_count": 45,
   "metadata": {},
   "outputs": [],
   "source": [
    "plants_table.loc[plants_table['soil'] ==  'Well-drained, Sandy','soil'] = 'Sandy, Well-drained'"
   ]
  },
  {
   "cell_type": "code",
   "execution_count": 46,
   "metadata": {},
   "outputs": [],
   "source": []
  },
  {
   "cell_type": "code",
   "execution_count": 48,
   "metadata": {},
   "outputs": [],
   "source": [
    "plants_table = plants_table.drop(columns=['Unnamed: 0'], errors='ignore')\n",
    "plants_table.to_csv(\"backend/database/Plants_Table.csv\")"
   ]
  },
  {
   "cell_type": "code",
   "execution_count": null,
   "metadata": {},
   "outputs": [],
   "source": []
  }
 ],
 "metadata": {
  "kernelspec": {
   "display_name": "Python 3",
   "language": "python",
   "name": "python3"
  },
  "language_info": {
   "codemirror_mode": {
    "name": "ipython",
    "version": 3
   },
   "file_extension": ".py",
   "mimetype": "text/x-python",
   "name": "python",
   "nbconvert_exporter": "python",
   "pygments_lexer": "ipython3",
   "version": "3.12.6"
  }
 },
 "nbformat": 4,
 "nbformat_minor": 2
}
